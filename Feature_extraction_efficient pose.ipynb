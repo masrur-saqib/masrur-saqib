{
  "cells": [
    {
      "cell_type": "markdown",
      "metadata": {
        "id": "view-in-github",
        "colab_type": "text"
      },
      "source": [
        "<a href=\"https://colab.research.google.com/github/masrur-saqib/masrur-saqib/blob/main/Feature_extraction_efficient%20pose.ipynb\" target=\"_parent\"><img src=\"https://colab.research.google.com/assets/colab-badge.svg\" alt=\"Open In Colab\"/></a>"
      ]
    },
    {
      "cell_type": "markdown",
      "metadata": {
        "id": "c0PbYNBDMN6x"
      },
      "source": [
        "# Dataset"
      ]
    },
    {
      "cell_type": "code",
      "execution_count": null,
      "metadata": {
        "colab": {
          "base_uri": "https://localhost:8080/",
          "height": 73
        },
        "id": "CAY53gykLW1d",
        "outputId": "69960f85-c58b-4969-dbf0-ed5e64eb01a0"
      },
      "outputs": [
        {
          "output_type": "display_data",
          "data": {
            "text/plain": [
              "<IPython.core.display.HTML object>"
            ],
            "text/html": [
              "\n",
              "     <input type=\"file\" id=\"files-819cb180-929c-48e7-a794-3a57630bbe26\" name=\"files[]\" multiple disabled\n",
              "        style=\"border:none\" />\n",
              "     <output id=\"result-819cb180-929c-48e7-a794-3a57630bbe26\">\n",
              "      Upload widget is only available when the cell has been executed in the\n",
              "      current browser session. Please rerun this cell to enable.\n",
              "      </output>\n",
              "      <script>// Copyright 2017 Google LLC\n",
              "//\n",
              "// Licensed under the Apache License, Version 2.0 (the \"License\");\n",
              "// you may not use this file except in compliance with the License.\n",
              "// You may obtain a copy of the License at\n",
              "//\n",
              "//      http://www.apache.org/licenses/LICENSE-2.0\n",
              "//\n",
              "// Unless required by applicable law or agreed to in writing, software\n",
              "// distributed under the License is distributed on an \"AS IS\" BASIS,\n",
              "// WITHOUT WARRANTIES OR CONDITIONS OF ANY KIND, either express or implied.\n",
              "// See the License for the specific language governing permissions and\n",
              "// limitations under the License.\n",
              "\n",
              "/**\n",
              " * @fileoverview Helpers for google.colab Python module.\n",
              " */\n",
              "(function(scope) {\n",
              "function span(text, styleAttributes = {}) {\n",
              "  const element = document.createElement('span');\n",
              "  element.textContent = text;\n",
              "  for (const key of Object.keys(styleAttributes)) {\n",
              "    element.style[key] = styleAttributes[key];\n",
              "  }\n",
              "  return element;\n",
              "}\n",
              "\n",
              "// Max number of bytes which will be uploaded at a time.\n",
              "const MAX_PAYLOAD_SIZE = 100 * 1024;\n",
              "\n",
              "function _uploadFiles(inputId, outputId) {\n",
              "  const steps = uploadFilesStep(inputId, outputId);\n",
              "  const outputElement = document.getElementById(outputId);\n",
              "  // Cache steps on the outputElement to make it available for the next call\n",
              "  // to uploadFilesContinue from Python.\n",
              "  outputElement.steps = steps;\n",
              "\n",
              "  return _uploadFilesContinue(outputId);\n",
              "}\n",
              "\n",
              "// This is roughly an async generator (not supported in the browser yet),\n",
              "// where there are multiple asynchronous steps and the Python side is going\n",
              "// to poll for completion of each step.\n",
              "// This uses a Promise to block the python side on completion of each step,\n",
              "// then passes the result of the previous step as the input to the next step.\n",
              "function _uploadFilesContinue(outputId) {\n",
              "  const outputElement = document.getElementById(outputId);\n",
              "  const steps = outputElement.steps;\n",
              "\n",
              "  const next = steps.next(outputElement.lastPromiseValue);\n",
              "  return Promise.resolve(next.value.promise).then((value) => {\n",
              "    // Cache the last promise value to make it available to the next\n",
              "    // step of the generator.\n",
              "    outputElement.lastPromiseValue = value;\n",
              "    return next.value.response;\n",
              "  });\n",
              "}\n",
              "\n",
              "/**\n",
              " * Generator function which is called between each async step of the upload\n",
              " * process.\n",
              " * @param {string} inputId Element ID of the input file picker element.\n",
              " * @param {string} outputId Element ID of the output display.\n",
              " * @return {!Iterable<!Object>} Iterable of next steps.\n",
              " */\n",
              "function* uploadFilesStep(inputId, outputId) {\n",
              "  const inputElement = document.getElementById(inputId);\n",
              "  inputElement.disabled = false;\n",
              "\n",
              "  const outputElement = document.getElementById(outputId);\n",
              "  outputElement.innerHTML = '';\n",
              "\n",
              "  const pickedPromise = new Promise((resolve) => {\n",
              "    inputElement.addEventListener('change', (e) => {\n",
              "      resolve(e.target.files);\n",
              "    });\n",
              "  });\n",
              "\n",
              "  const cancel = document.createElement('button');\n",
              "  inputElement.parentElement.appendChild(cancel);\n",
              "  cancel.textContent = 'Cancel upload';\n",
              "  const cancelPromise = new Promise((resolve) => {\n",
              "    cancel.onclick = () => {\n",
              "      resolve(null);\n",
              "    };\n",
              "  });\n",
              "\n",
              "  // Wait for the user to pick the files.\n",
              "  const files = yield {\n",
              "    promise: Promise.race([pickedPromise, cancelPromise]),\n",
              "    response: {\n",
              "      action: 'starting',\n",
              "    }\n",
              "  };\n",
              "\n",
              "  cancel.remove();\n",
              "\n",
              "  // Disable the input element since further picks are not allowed.\n",
              "  inputElement.disabled = true;\n",
              "\n",
              "  if (!files) {\n",
              "    return {\n",
              "      response: {\n",
              "        action: 'complete',\n",
              "      }\n",
              "    };\n",
              "  }\n",
              "\n",
              "  for (const file of files) {\n",
              "    const li = document.createElement('li');\n",
              "    li.append(span(file.name, {fontWeight: 'bold'}));\n",
              "    li.append(span(\n",
              "        `(${file.type || 'n/a'}) - ${file.size} bytes, ` +\n",
              "        `last modified: ${\n",
              "            file.lastModifiedDate ? file.lastModifiedDate.toLocaleDateString() :\n",
              "                                    'n/a'} - `));\n",
              "    const percent = span('0% done');\n",
              "    li.appendChild(percent);\n",
              "\n",
              "    outputElement.appendChild(li);\n",
              "\n",
              "    const fileDataPromise = new Promise((resolve) => {\n",
              "      const reader = new FileReader();\n",
              "      reader.onload = (e) => {\n",
              "        resolve(e.target.result);\n",
              "      };\n",
              "      reader.readAsArrayBuffer(file);\n",
              "    });\n",
              "    // Wait for the data to be ready.\n",
              "    let fileData = yield {\n",
              "      promise: fileDataPromise,\n",
              "      response: {\n",
              "        action: 'continue',\n",
              "      }\n",
              "    };\n",
              "\n",
              "    // Use a chunked sending to avoid message size limits. See b/62115660.\n",
              "    let position = 0;\n",
              "    do {\n",
              "      const length = Math.min(fileData.byteLength - position, MAX_PAYLOAD_SIZE);\n",
              "      const chunk = new Uint8Array(fileData, position, length);\n",
              "      position += length;\n",
              "\n",
              "      const base64 = btoa(String.fromCharCode.apply(null, chunk));\n",
              "      yield {\n",
              "        response: {\n",
              "          action: 'append',\n",
              "          file: file.name,\n",
              "          data: base64,\n",
              "        },\n",
              "      };\n",
              "\n",
              "      let percentDone = fileData.byteLength === 0 ?\n",
              "          100 :\n",
              "          Math.round((position / fileData.byteLength) * 100);\n",
              "      percent.textContent = `${percentDone}% done`;\n",
              "\n",
              "    } while (position < fileData.byteLength);\n",
              "  }\n",
              "\n",
              "  // All done.\n",
              "  yield {\n",
              "    response: {\n",
              "      action: 'complete',\n",
              "    }\n",
              "  };\n",
              "}\n",
              "\n",
              "scope.google = scope.google || {};\n",
              "scope.google.colab = scope.google.colab || {};\n",
              "scope.google.colab._files = {\n",
              "  _uploadFiles,\n",
              "  _uploadFilesContinue,\n",
              "};\n",
              "})(self);\n",
              "</script> "
            ]
          },
          "metadata": {}
        },
        {
          "output_type": "stream",
          "name": "stdout",
          "text": [
            "Saving kaggle.json to kaggle.json\n"
          ]
        }
      ],
      "source": [
        "!pip install -q kaggle\n",
        "from google.colab import files\n",
        "files.upload()\n",
        "! mkdir ~/.kaggle\n",
        "! cp kaggle.json ~/.kaggle/\n",
        "! chmod 600 ~/.kaggle/kaggle.json"
      ]
    },
    {
      "cell_type": "code",
      "execution_count": null,
      "metadata": {
        "id": "dzGXgzYwLhEw"
      },
      "outputs": [],
      "source": [
        "!kaggle datasets download -d grassknoted/asl-alphabet\n",
        "!mkdir DATASET\n",
        "!unzip -q asl-alphabet.zip -d DATASET"
      ]
    },
    {
      "cell_type": "code",
      "source": [
        "!kaggle datasets download -d danrasband/asl-alphabet-test\n"
      ],
      "metadata": {
        "colab": {
          "base_uri": "https://localhost:8080/"
        },
        "id": "JeB3iogKxRhd",
        "outputId": "6a471a78-f766-4fda-efd2-f94546fb240e"
      },
      "execution_count": null,
      "outputs": [
        {
          "output_type": "stream",
          "name": "stdout",
          "text": [
            "Downloading asl-alphabet-test.zip to /content\n",
            " 21% 5.00M/24.3M [00:00<00:00, 44.7MB/s]\n",
            "100% 24.3M/24.3M [00:00<00:00, 134MB/s] \n"
          ]
        }
      ]
    },
    {
      "cell_type": "code",
      "source": [
        "!mkdir DATASET\n",
        "!unzip -q asl-alphabet-test.zip -d DATASET"
      ],
      "metadata": {
        "id": "toYG6srJxcsY"
      },
      "execution_count": null,
      "outputs": []
    },
    {
      "cell_type": "markdown",
      "metadata": {
        "id": "0x4p9OQCML7Y"
      },
      "source": [
        "# Mediapipe"
      ]
    },
    {
      "cell_type": "code",
      "execution_count": null,
      "metadata": {
        "id": "tWq3ivHZMNSx"
      },
      "outputs": [],
      "source": [
        "!pip install mediapipe\n",
        "!pip install opencv-python"
      ]
    },
    {
      "cell_type": "markdown",
      "metadata": {
        "id": "MdLShmJBOSal"
      },
      "source": [
        "# Single Hand"
      ]
    },
    {
      "cell_type": "code",
      "execution_count": null,
      "metadata": {
        "id": "CKfwe27TOP9g"
      },
      "outputs": [],
      "source": [
        "import cv2\n",
        "import mediapipe as mp\n",
        "import os\n",
        "import csv\n",
        "\n",
        "# Initialize MediaPipe Hands\n",
        "mp_hands = mp.solutions.hands\n",
        "hands = mp_hands.Hands()"
      ]
    },
    {
      "cell_type": "code",
      "execution_count": null,
      "metadata": {
        "colab": {
          "base_uri": "https://localhost:8080/"
        },
        "id": "jyON0EJAObIV",
        "outputId": "f6683178-7d49-4f1e-a3da-16f47cbec056"
      },
      "outputs": [
        {
          "output_type": "stream",
          "name": "stdout",
          "text": [
            "done\n"
          ]
        }
      ],
      "source": [
        "image = cv2.imread('/content/DATASET/A/A0001_test.jpg')\n",
        "image_rgb = cv2.cvtColor(image, cv2.COLOR_BGR2RGB)\n",
        "\n",
        "# Process the image and extract hand landmarks\n",
        "results = hands.process(image_rgb)\n",
        "\n",
        "# Check if hand landmarks are detected\n",
        "if results.multi_hand_landmarks:\n",
        "    # Get landmarks for the first hand (assuming one hand in each image)\n",
        "    landmarks = results.multi_hand_landmarks[0].landmark\n",
        "    print('done')\n",
        "\n",
        "    # Convert landmarks to list of coordinates\n",
        "    landmark_coordinates = []\n",
        "    for landmark in landmarks:\n",
        "        landmark_coordinates.append((landmark.x, landmark.y, landmark.z))"
      ]
    },
    {
      "cell_type": "code",
      "execution_count": null,
      "metadata": {
        "colab": {
          "base_uri": "https://localhost:8080/"
        },
        "id": "lje5L2xsOpFx",
        "outputId": "dcc20ca1-af50-466a-c538-fe88597c8310"
      },
      "outputs": [
        {
          "output_type": "execute_result",
          "data": {
            "text/plain": [
              "[(0.3323798179626465, 0.6285103559494019, -9.896045867208159e-07),\n",
              " (0.4906632900238037, 0.614133358001709, -0.05272448807954788),\n",
              " (0.64654940366745, 0.5053519606590271, -0.06849782913923264),\n",
              " (0.7088634967803955, 0.3803977072238922, -0.08379750698804855),\n",
              " (0.7510969042778015, 0.28102612495422363, -0.09196872264146805),\n",
              " (0.5958228707313538, 0.3340708315372467, -0.028744082897901535),\n",
              " (0.6421917676925659, 0.23224425315856934, -0.1092316284775734),\n",
              " (0.6036808490753174, 0.3358728885650635, -0.14989909529685974),\n",
              " (0.5682122111320496, 0.4303604066371918, -0.16021192073822021),\n",
              " (0.4959283471107483, 0.3083312213420868, -0.030829012393951416),\n",
              " (0.5522118806838989, 0.19199271500110626, -0.12388639152050018),\n",
              " (0.5163928866386414, 0.3369980454444885, -0.14665688574314117),\n",
              " (0.4860507547855377, 0.44972655177116394, -0.13408036530017853),\n",
              " (0.39486217498779297, 0.3023861050605774, -0.04445387050509453),\n",
              " (0.43753618001937866, 0.2028302699327469, -0.14248745143413544),\n",
              " (0.420864999294281, 0.36247891187667847, -0.12866026163101196),\n",
              " (0.40603286027908325, 0.46860378980636597, -0.08807851374149323),\n",
              " (0.28443390130996704, 0.3127692937850952, -0.060858212411403656),\n",
              " (0.32618510723114014, 0.25026071071624756, -0.13472244143486023),\n",
              " (0.3374286890029907, 0.36657315492630005, -0.12216205149888992),\n",
              " (0.3414788246154785, 0.44727039337158203, -0.09008239954710007)]"
            ]
          },
          "metadata": {},
          "execution_count": 8
        }
      ],
      "source": [
        "landmark_coordinates"
      ]
    },
    {
      "cell_type": "code",
      "source": [
        "import cv2\n",
        "import mediapipe as mp\n",
        "from google.colab.patches import cv2_imshow\n",
        "\n",
        "# Initialize MediaPipe Hands\n",
        "mp_hands = mp.solutions.hands\n",
        "hands = mp_hands.Hands()\n",
        "\n",
        "# Read the image\n",
        "image = cv2.imread('/content/DATASET/A/A0001_test.jpg')\n",
        "image_rgb = cv2.cvtColor(image, cv2.COLOR_BGR2RGB)\n",
        "\n",
        "# Process the image and extract hand landmarks\n",
        "results = hands.process(image_rgb)\n",
        "\n",
        "# Check if hand landmarks are detected\n",
        "if results.multi_hand_landmarks:\n",
        "    # Get landmarks for the first hand (assuming one hand in each image)\n",
        "    landmarks = results.multi_hand_landmarks[0].landmark\n",
        "\n",
        "    # Draw circles on the image at the locations of hand landmarks\n",
        "    for i, landmark in enumerate(landmarks):\n",
        "        h, w, _ = image.shape\n",
        "        cx, cy = int(landmark.x * w), int(landmark.y * h)\n",
        "        cv2.circle(image, (cx, cy), 2, (0, 0, 255), -1)  # Draw a circle at each landmark location\n",
        "\n",
        "        # Display landmark data\n",
        "        # cv2.putText(image, f\"{i+1}: ({cx}, {cy})\", (cx, cy), cv2.FONT_HERSHEY_SIMPLEX, 0.4, (0, 0, 255), 1)\n",
        "\n",
        "    # Display the image with hand landmarks\n",
        "    cv2_imshow(image)\n",
        "    cv2.waitKey(0)\n",
        "    cv2.destroyAllWindows()\n",
        "else:\n",
        "    print(\"No hand landmarks detected.\")\n"
      ],
      "metadata": {
        "colab": {
          "base_uri": "https://localhost:8080/",
          "height": 217
        },
        "id": "ULCgyuCytfF6",
        "outputId": "d2adb06f-a45f-42cc-db47-929d587e1fec"
      },
      "execution_count": null,
      "outputs": [
        {
          "output_type": "display_data",
          "data": {
            "text/plain": [
              "<PIL.Image.Image image mode=RGB size=200x200>"
            ],
            "image/png": "[encoded data removed]"
          },
          "metadata": {}
        }
      ]
    },
    {
      "cell_type": "markdown",
      "metadata": {
        "id": "cNI9HfovOVjm"
      },
      "source": [
        "# Whole dataset"
      ]
    },
    {
      "cell_type": "code",
      "execution_count": null,
      "metadata": {
        "id": "HlTGmk_mMjEb"
      },
      "outputs": [],
      "source": [
        "import cv2\n",
        "import mediapipe as mp\n",
        "import os\n",
        "import csv\n",
        "\n",
        "# Initialize MediaPipe Hands\n",
        "mp_hands = mp.solutions.hands\n",
        "hands = mp_hands.Hands()\n",
        "\n",
        "# Function to process an image and extract hand landmarks\n",
        "def extract_hand_landmarks(image_path):\n",
        "    # Read the image\n",
        "    image = cv2.imread(image_path)\n",
        "    image_rgb = cv2.cvtColor(image, cv2.COLOR_BGR2RGB)\n",
        "\n",
        "    # Process the image and extract hand landmarks\n",
        "    results = hands.process(image_rgb)\n",
        "\n",
        "    # Check if hand landmarks are detected\n",
        "    if results.multi_hand_landmarks:\n",
        "        # Get landmarks for the first hand (assuming one hand in each image)\n",
        "        landmarks = results.multi_hand_landmarks[0].landmark\n",
        "\n",
        "        # Convert landmarks to list of coordinates\n",
        "        landmark_coordinates = []\n",
        "        for landmark in landmarks:\n",
        "            landmark_coordinates.append((landmark.x, landmark.y, landmark.z))\n",
        "\n",
        "        return landmark_coordinates\n",
        "\n",
        "# Replace 'your_image_folder_path' with the path to your dataset folder\n",
        "dataset_folder_path = './DATASET/'\n",
        "\n",
        "\n"
      ]
    },
    {
      "cell_type": "code",
      "execution_count": null,
      "metadata": {
        "id": "WCEyrFIANOSH"
      },
      "outputs": [],
      "source": [
        "from tqdm import tqdm"
      ]
    },
    {
      "cell_type": "code",
      "execution_count": null,
      "metadata": {
        "id": "oQ0s-CHzMmKy"
      },
      "outputs": [],
      "source": [
        "csv_file_path = 'hand_landmarks_test.csv'\n",
        "\n",
        "with open(csv_file_path, mode='w', newline='') as file:\n",
        "    writer = csv.writer(file)\n",
        "\n",
        "    # Write the header row\n",
        "    header = [\"Landmark_\" + str(i) for i in range(1, 22)] + [\"Class\"]\n",
        "    writer.writerow(header)\n",
        "\n",
        "    # Loop through each class (subfolder) in the dataset folder\n",
        "    for class_name in os.listdir(dataset_folder_path):\n",
        "        class_folder_path = os.path.join(dataset_folder_path, class_name)\n",
        "\n",
        "        # Loop through each image in the class folder\n",
        "        for filename in os.listdir(class_folder_path):\n",
        "            if filename.endswith(\".jpg\") or filename.endswith(\".png\"):\n",
        "                image_path = os.path.join(class_folder_path, filename)\n",
        "                # print(f\"Processing {image_path}\")\n",
        "\n",
        "                landmarks = extract_hand_landmarks(image_path)\n",
        "\n",
        "                if landmarks:\n",
        "                    # Write landmarks and class name to the CSV file\n",
        "                    landmarks.append(class_name)\n",
        "                    writer.writerow(landmarks)"
      ]
    }
  ],
  "metadata": {
    "colab": {
      "provenance": [],
      "include_colab_link": true
    },
    "kernelspec": {
      "display_name": "Python 3",
      "name": "python3"
    },
    "language_info": {
      "name": "python"
    }
  },
  "nbformat": 4,
  "nbformat_minor": 0
}